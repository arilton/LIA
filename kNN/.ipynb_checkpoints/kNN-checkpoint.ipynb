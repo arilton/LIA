{
 "cells": [
  {
   "cell_type": "markdown",
   "metadata": {},
   "source": [
    "# Tutorial Python: kNN\n",
    "---\n",
    "1. [Princípios](#knn-principios)\n",
    "    1. [Conceito](#conceito)\n",
    "    2. [Exemplo](#exemplo)\n",
    "2. [Implementação](#knn-implementacao)\n",
    "    1. [Distância](#distancia)\n",
    "3. [Discussão](#knn-discussao)\n",
    "4. [Aplicações](#knn-aplicacoes)"
   ]
  },
  {
   "cell_type": "markdown",
   "metadata": {},
   "source": [
    "# <span id=\"knn-principios\">Princípios</span>\n",
    "---"
   ]
  },
  {
   "cell_type": "markdown",
   "metadata": {},
   "source": [
    "O kNN (k-Nearest Neighbors ou k-vizinhos mais próximos) é um algoritmo classificador supervisionado e baseado em instância. Seu princípio se baseia no seguinte fato:\n",
    "<span id=\"conceito\"></span>    \n",
    "> Uma instância tem sua classe definida com base na classe que mais se repete entre seus **k vizinhos mais próximos**.\n",
    "\n",
    "Vamos entender a frase acima. \n",
    "1. Primeiro, é necessário definir o que é **proximidade**. Esse termo se relaciona com **distância**, tendo que 2 items são próximos quando a distância entre eles é pequena; ou ainda, que *n* items são mais próximos à um outro elemento quando dentre um conjunto estes *n* items apresentam a menor distância para tal elemento. Portanto, uma boa medida de distância é fundamental para um bom kNN;\n",
    "2. Após selecionar uma medida de **distância adequada**, deve se buscar os **elementos mais próximos**, ou vizinhos. Porém, essa quantidade é definida previamente, que é o nosso **k**;\n",
    "3. Em posse desses elementos, os quais possuem uma classe já definida, verifica a **classe que mais se repete** neles e essa será definida como a classe da nossa instância teste.\n",
    "\n",
    "Em outras palavras, esse algoritmo é uma aplicação daquele ditado \"diz com quem tu andas, que eu direi quem tu és\". Uma vez que ele literalmente compara os elementos mais próximos e define a instância desconhecida a partir desses."
   ]
  },
  {
   "cell_type": "markdown",
   "metadata": {},
   "source": [
    "<span id=\"exemplo\">**Por exemplo:**</span> imaginemos que entre uma família de flores têm-se duas espécies, que representam as Classes A e B, e as características que permitem sua distinção são $x_1$ e $x_2$. Esses traços foram medidos em 10 flores, cujas espécies são conhecidas e certas, e o resultado gerou o gráfico abaixo.\n",
    "\n",
    "Um aluno que não entendia muito sobre flores leu sobre esta família e achou uma flor dela. Com a pretensão de identificar a espécie, ele também avaliou os atributos e o representou no gráfico como uma estrela vermelha. Com base nos 6 vizinhos mais próximos ele identificou que a flor pertencia a espécie da Classe A.\n",
    "\n",
    "![Exemplo de uso](../img/knn-concept.png \"Título\")"
   ]
  },
  {
   "cell_type": "markdown",
   "metadata": {},
   "source": [
    "## Implementação\n",
    "---"
   ]
  },
  {
   "cell_type": "markdown",
   "metadata": {},
   "source": [
    "A primeira parte dos nossos tutoriais sempre será a preparação do conjunto de dados. Logo, o primeiro passo para tratar essa coleção é obtê-la! Faremos isso a partir da leitura de um arquivo *csv*."
   ]
  },
  {
   "cell_type": "code",
   "execution_count": 102,
   "metadata": {
    "collapsed": true
   },
   "outputs": [],
   "source": [
    "import csv\n",
    "import random\n",
    "def carregar_dados(nome_arquivo, corte=0.67, treino=[], teste=[]):\n",
    "    with open(nome_arquivo, 'r') as arquivo:\n",
    "        dados = list(csv.reader(arquivo))\n",
    "        num_col = len(dados[0])\n",
    "        num_lin = len(dados)\n",
    "        for lin in range(num_lin-1):\n",
    "            if random.random() > corte:\n",
    "                teste.append(dados[lin][:num_col])\n",
    "            else:\n",
    "                treino.append(dados[lin][:num_col])\n",
    "        return treino, teste"
   ]
  },
  {
   "cell_type": "code",
   "execution_count": 104,
   "metadata": {},
   "outputs": [
    {
     "name": "stdout",
     "output_type": "stream",
     "text": [
      "Treino: 116\n",
      "Teste: 34\n"
     ]
    }
   ],
   "source": [
    "treino, teste = [], []\n",
    "carregar_dados('../datasets/iris/iris.data',0.8, treino, teste)\n",
    "print('Treino:', len(treino))\n",
    "print('Teste:', len(teste))"
   ]
  },
  {
   "cell_type": "code",
   "execution_count": 136,
   "metadata": {},
   "outputs": [
    {
     "data": {
      "text/plain": [
       "1.8027756377319946"
      ]
     },
     "execution_count": 136,
     "metadata": {},
     "output_type": "execute_result"
    }
   ],
   "source": [
    "import numpy as np\n",
    "def distancia_euclidiana(instancia1, instancia2, dimensoes):\n",
    "    distancia = 0\n",
    "    for d in range(dimensoes):\n",
    "        distancia += pow(float(instancia1[d])-float(instancia2[d]),2)\n",
    "    return np.sqrt(distancia)\n",
    "\n",
    "vetor1 = [2,1,'1',2,'a']\n",
    "vetor2 = [1,'1.5',2,1,'b']\n",
    "distancia_euclidiana(vetor1, vetor2, 4)"
   ]
  },
  {
   "cell_type": "code",
   "execution_count": 164,
   "metadata": {
    "collapsed": true
   },
   "outputs": [],
   "source": [
    "def encontrar_vizinhos(dados, instancia, k):\n",
    "    vizinhos = []\n",
    "    for dado in dados:\n",
    "        distancia = distancia_euclidiana(instancia, dado, len(instancia)-1)\n",
    "        vizinhos.append((dado, distancia))\n",
    "    vizinhos.sort(key=lambda x: x[1])\n",
    "    return [vetor for vetor, distancia in vizinhos[:k]]"
   ]
  },
  {
   "cell_type": "code",
   "execution_count": 225,
   "metadata": {},
   "outputs": [
    {
     "data": {
      "text/plain": [
       "[[1, '1.5', 2, 1, 'c'], [2, 1, '1', 2, 'a'], [3, '1.5', 2, 1, 'a']]"
      ]
     },
     "execution_count": 225,
     "metadata": {},
     "output_type": "execute_result"
    }
   ],
   "source": [
    "dados = [[2,1,'1',2,'a'],[1,'1.5',2,1,'c'],[3,'1.5',2,1,'a']]\n",
    "teste = [1,2,1,1]\n",
    "encontrar_vizinhos(dados,teste,3)"
   ]
  },
  {
   "cell_type": "code",
   "execution_count": 226,
   "metadata": {
    "collapsed": true
   },
   "outputs": [],
   "source": [
    "def definir_instancia(vizinhos, posicao_classe=-1):\n",
    "    votos = {}\n",
    "    for vizinho in vizinhos:\n",
    "        classe = vizinho[posicao_classe]\n",
    "        if classe in votos:\n",
    "            votos[classe]+= 1\n",
    "        else:\n",
    "            votos[classe] = 1\n",
    "    classes_ordenadas = sorted(votos.items(), key=lambda x: x[1], reverse=True)\n",
    "    return classes_ordenadas[0][0]"
   ]
  },
  {
   "cell_type": "code",
   "execution_count": 228,
   "metadata": {},
   "outputs": [
    {
     "data": {
      "text/plain": [
       "'a'"
      ]
     },
     "execution_count": 228,
     "metadata": {},
     "output_type": "execute_result"
    }
   ],
   "source": [
    "definir_instancia(encontrar_vizinhos(dados,teste,3))"
   ]
  },
  {
   "cell_type": "markdown",
   "metadata": {},
   "source": [
    "## Discussão\n",
    "---"
   ]
  },
  {
   "cell_type": "markdown",
   "metadata": {},
   "source": [
    "## Aplicações\n",
    "---"
   ]
  }
 ],
 "metadata": {
  "kernelspec": {
   "display_name": "Python 3",
   "language": "python",
   "name": "python3"
  },
  "language_info": {
   "codemirror_mode": {
    "name": "ipython",
    "version": 3
   },
   "file_extension": ".py",
   "mimetype": "text/x-python",
   "name": "python",
   "nbconvert_exporter": "python",
   "pygments_lexer": "ipython3",
   "version": "3.6.2"
  }
 },
 "nbformat": 4,
 "nbformat_minor": 2
}
