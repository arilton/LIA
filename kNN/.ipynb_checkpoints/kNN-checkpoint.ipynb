{
 "cells": [
  {
   "cell_type": "markdown",
   "metadata": {},
   "source": [
    "# Tutorial Python: kNN\n",
    "---\n",
    "1. [Princípios](#knn-principios)\n",
    "2. [Implementação](#knn-implementacao)\n",
    "    1. [Distância](#distancia)\n",
    "3. [Discussão](#knn-discussao)\n",
    "4. [Aplicações](#knn-aplicacoes)"
   ]
  },
  {
   "cell_type": "markdown",
   "metadata": {},
   "source": [
    "# <span id=\"knn-principios\">Princípios</span>\n",
    "---\n",
    "O kNN (k-Nearest Neighbors ou k-vizinhos mais próximos) é um algoritmo classificador supervisionado e baseado em instância. Seu princípio se baseia no seguinte fato:\n",
    "    \n",
    "> Uma instância tem sua classe definida com base na classe que mais se repete entre seus **k vizinhos mais próximos**.\n",
    "\n",
    "Vamos entender a frase acima. \n",
    "1. Primeiro, é necessário definir o que é **proximidade**. Esse termo se relaciona com **distância**, tendo que 2 items são próximos quando a distância entre eles é pequena; ou ainda, que *n* items são mais próximos à um outro elemento quando dentre um conjunto estes *n* items apresentam a menor distância para tal elemento. Portanto, uma boa medida de distância é fundamental para um bom kNN;\n",
    "2. Após selecionar uma medida de **distância adequada**, deve se buscar os **elementos mais próximos**, ou vizinhos. Porém, essa quantidade é definida previamente, que é o nosso **k**;\n",
    "3. Em posse desses elementos, os quais possuem uma classe já definida, verifica a **classe que mais se repete** neles e essa será definida como a classe da nossa instância teste.\n",
    "\n",
    "Em outras palavras, esse algoritmo é uma aplicação daquele ditado \"diz com quem tu andas, que eu direi quem tu és\". Uma vez que ele literalmente compara os elementos mais próximos e define a instância desconhecida a partir desses.\n",
    "\n",
    "![Exemplo de uso](../img/knn-concept.png \"Título\")\n",
    "\n"
   ]
  },
  {
   "cell_type": "markdown",
   "metadata": {},
   "source": [
    "## Implementação\n",
    "---"
   ]
  },
  {
   "cell_type": "markdown",
   "metadata": {},
   "source": [
    "## Discussão\n",
    "---"
   ]
  },
  {
   "cell_type": "markdown",
   "metadata": {},
   "source": [
    "## Aplicações\n",
    "---"
   ]
  }
 ],
 "metadata": {
  "kernelspec": {
   "display_name": "Python 3",
   "language": "python",
   "name": "python3"
  },
  "language_info": {
   "codemirror_mode": {
    "name": "ipython",
    "version": 3
   },
   "file_extension": ".py",
   "mimetype": "text/x-python",
   "name": "python",
   "nbconvert_exporter": "python",
   "pygments_lexer": "ipython3",
   "version": "3.6.2"
  }
 },
 "nbformat": 4,
 "nbformat_minor": 2
}
